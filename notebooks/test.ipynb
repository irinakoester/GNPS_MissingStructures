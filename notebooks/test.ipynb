{
 "cells": [
  {
   "cell_type": "code",
   "execution_count": 1,
   "metadata": {},
   "outputs": [
    {
     "output_type": "stream",
     "name": "stdout",
     "text": "--2020-04-21 13:49:35--  https://www.dropbox.com/s/jbml6dw10o0orl6/MS_data_allGNPS_191106_corrected.mgf?dl=1\nResolving www.dropbox.com (www.dropbox.com)... 162.125.2.1, 2620:100:6017:1::a27d:201\nConnecting to www.dropbox.com (www.dropbox.com)|162.125.2.1|:443... connected.\nHTTP request sent, awaiting response...301 Moved Permanently\nLocation: /s/dl/jbml6dw10o0orl6/MS_data_allGNPS_191106_corrected.mgf [following]\n--2020-04-21 13:49:35--  https://www.dropbox.com/s/dl/jbml6dw10o0orl6/MS_data_allGNPS_191106_corrected.mgf\nReusing existing connection to www.dropbox.com:443.\nHTTP request sent, awaiting response...302 Found\nLocation: https://uca96b6c2d6e388e4d4c3b7cd788.dl.dropboxusercontent.com/cd/0/get/A2T93tCcYszVHxB4tTcVtCQFsWvYN9u7trG1NT1SQbcVxk75eQ3mslroLOKpLmaaAgN_iybq0BOgaR2yaqDbVltO1mih9ZMQig7LcG-dX6hHPh5iX2JfweIKUlLqyoBWmuw/file?dl=1# [following]\n--2020-04-21 13:49:35--  https://uca96b6c2d6e388e4d4c3b7cd788.dl.dropboxusercontent.com/cd/0/get/A2T93tCcYszVHxB4tTcVtCQFsWvYN9u7trG1NT1SQbcVxk75eQ3mslroLOKpLmaaAgN_iybq0BOgaR2yaqDbVltO1mih9ZMQig7LcG-dX6hHPh5iX2JfweIKUlLqyoBWmuw/file?dl=1\nResolving uca96b6c2d6e388e4d4c3b7cd788.dl.dropboxusercontent.com (uca96b6c2d6e388e4d4c3b7cd788.dl.dropboxusercontent.com)... 162.125.2.6, 2620:100:6017:6::a27d:206\nConnecting to uca96b6c2d6e388e4d4c3b7cd788.dl.dropboxusercontent.com (uca96b6c2d6e388e4d4c3b7cd788.dl.dropboxusercontent.com)|162.125.2.6|:443... connected.\nHTTP request sent, awaiting response...200 OK\nLength: 1124116518 (1.0G) [application/binary]\nSaving to: 'MS_data_allGNPS_191106_corrected.mgf?dl=1'\n\nMS_data_allGNPS_191 100%[===================>]   1.05G  64.0MB/s    in 18s     \n\n2020-04-21 13:49:53 (61.0 MB/s) - 'MS_data_allGNPS_191106_corrected.mgf?dl=1' saved [1124116518/1124116518]\n\n"
    }
   ],
   "source": [
    "!wget https://www.dropbox.com/s/jbml6dw10o0orl6/MS_data_allGNPS_191106_corrected.mgf?dl=1"
   ]
  },
  {
   "cell_type": "code",
   "execution_count": 2,
   "metadata": {},
   "outputs": [],
   "source": [
    "!mv MS_data_allGNPS_191106_corrected.mgf?dl=1 MS_data_allGNPS_191106_corrected.mgf"
   ]
  },
  {
   "cell_type": "code",
   "execution_count": 8,
   "metadata": {},
   "outputs": [],
   "source": [
    "results_list = []\n",
    "\n",
    "spectrumid = \"\"\n",
    "smiles = \"\"\n",
    "inchi = \"\"\n",
    "name = \"\"\n",
    "for line in open(\"MS_data_allGNPS_191106_corrected.mgf\"):\n",
    "    if \"SPECTRUMID\" in line:\n",
    "        spectrumid = (line.rstrip().split(\"=\")[1])\n",
    "    if \"SMILES\" in line:\n",
    "        smiles = (line.rstrip().split(\"=\")[1])\n",
    "    if \"INCHI\" in line:\n",
    "        inchi = (line.rstrip().split(\"=\")[1])\n",
    "    if \"NAME=\" in line:\n",
    "        name = (line.rstrip().split(\"=\")[1])\n",
    "    if \"END IONS\" in line:\n",
    "        result_dict = {}\n",
    "        result_dict[\"spectrumid\"] = spectrumid\n",
    "        result_dict[\"smiles\"] = smiles\n",
    "        result_dict[\"inchi\"] = inchi\n",
    "        result_dict[\"name\"] = name\n",
    "\n",
    "        results_list.append(result_dict)\n",
    "\n",
    "        spectrumid = \"\"\n",
    "        smiles = \"\"\n",
    "        inchi = \"\"\n",
    "        name = \"\"\n",
    "\n",
    "import pandas as pd\n",
    "df = pd.DataFrame(results_list)\n"
   ]
  },
  {
   "cell_type": "code",
   "execution_count": 11,
   "metadata": {},
   "outputs": [
    {
     "output_type": "execute_result",
     "data": {
      "text/plain": "          spectrum_id                                        source_file  \\\n0  CCMSLIB00000001547  130618_Ger_Jenia_WT-3-Des-MCLR_MH981.4-qb.1.1....   \n1  CCMSLIB00000001548     20111105_Anada_Ger_HoiamideB_MH940_qb.1.1..mgf   \n2  CCMSLIB00000001549  20111105_Jenia_Ger_MalyngamideC_MH_456_qb.1.1....   \n3  CCMSLIB00000001550   20111105_Jenia_Ger_Scytonemin_MH_545_qb.1.1..mgf   \n4  CCMSLIB00000001551                                             A1.mgf   \n\n                               task scan ms_level library_membership  \\\n0  47daa4396adb426eaa5fa54b6ce7dd5f    1        2       GNPS-LIBRARY   \n1  47daa4396adb426eaa5fa54b6ce7dd5f    1        2       GNPS-LIBRARY   \n2  47daa4396adb426eaa5fa54b6ce7dd5f    1        2       GNPS-LIBRARY   \n3  47daa4396adb426eaa5fa54b6ce7dd5f    1        2       GNPS-LIBRARY   \n4  d14a5843653040ba9fa2c4376f2be358    1        2       GNPS-LIBRARY   \n\n  spectrum_status                                         peaks_json  \\\n0               1  [[289.286377,8068.000000],[295.545288,22507.00...   \n1               1  [[278.049927,35793.000000],[278.957642,47593.0...   \n2               1  [[128.838745,8064.000000],[132.075684,8080.000...   \n3               1  [[343.896484,142503.000000],[345.458496,67939....   \n4               1  [[101.015465,34.201859],[101.059807,14.903370]...   \n\n                                splash submit_user  ...  Ion_Mode  \\\n0  splash10-0w2a-0001282259-0001282259     mwang87  ...  Positive   \n1  splash10-00dl-0000011189-0000011189     mwang87  ...  Positive   \n2  splash10-00di-0000900000-0000900000     mwang87  ...  Positive   \n3  splash10-0002-0000190000-0000190000     mwang87  ...  Positive   \n4  splash10-03di-0910000000-0910000000     mwang87  ...  Positive   \n\n             create_time                           task_id user_id  \\\n0  2019-10-30 21:18:25.0  aa87bf9cd0784df9956753f435c32434    null   \n1  2019-06-04 02:55:49.0  cd4ed49954b94767a54918c340d18fa1    null   \n2  2014-02-04 17:56:43.0  47daa4396adb426eaa5fa54b6ce7dd5f    null   \n3  2019-07-23 10:38:26.0  ca48cf7bc6644f5e89f98d62f114dfea    null   \n4  2014-02-04 17:56:31.0  d14a5843653040ba9fa2c4376f2be358    null   \n\n               InChIKey_smiles               InChIKey_inchi Formula_smiles  \\\n0  IYDKWWDUBYWQGF-NNAZGLEUSA-N                                C48H72N10O12   \n1  KNGPFNUOXXLKCN-ZNCJFREWSA-N  KNGPFNUOXXLKCN-ZNCJFREWSA-N  C45H73N5O10S3   \n2                                                                            \n3  CGZKSPLDUIRCIO-RPCRKUJJSA-N  CGZKSPLDUIRCIO-RPCRKUJJSA-N     C36H20N2O4   \n4                                                                            \n\n   Formula_inchi                                                url  \\\n0                 https://gnps.ucsd.edu/ProteoSAFe/gnpslibrarysp...   \n1  C45H73N5O10S3  https://gnps.ucsd.edu/ProteoSAFe/gnpslibrarysp...   \n2                 https://gnps.ucsd.edu/ProteoSAFe/gnpslibrarysp...   \n3     C36H20N2O4  https://gnps.ucsd.edu/ProteoSAFe/gnpslibrarysp...   \n4                 https://gnps.ucsd.edu/ProteoSAFe/gnpslibrarysp...   \n\n                                  annotation_history  \n0  [{'Compound_Name': '3-Des-Microcystein_LR', 'I...  \n1  [{'Compound_Name': 'Hoiamide B', 'Ion_Source':...  \n2  [{'Compound_Name': 'Malyngamide C', 'Ion_Sourc...  \n3  [{'Compound_Name': 'Scytonemin', 'Ion_Source':...  \n4  [{'Compound_Name': 'Salinisporamide A', 'Ion_S...  \n\n[5 rows x 38 columns]",
      "text/html": "<div>\n<style scoped>\n    .dataframe tbody tr th:only-of-type {\n        vertical-align: middle;\n    }\n\n    .dataframe tbody tr th {\n        vertical-align: top;\n    }\n\n    .dataframe thead th {\n        text-align: right;\n    }\n</style>\n<table border=\"1\" class=\"dataframe\">\n  <thead>\n    <tr style=\"text-align: right;\">\n      <th></th>\n      <th>spectrum_id</th>\n      <th>source_file</th>\n      <th>task</th>\n      <th>scan</th>\n      <th>ms_level</th>\n      <th>library_membership</th>\n      <th>spectrum_status</th>\n      <th>peaks_json</th>\n      <th>splash</th>\n      <th>submit_user</th>\n      <th>...</th>\n      <th>Ion_Mode</th>\n      <th>create_time</th>\n      <th>task_id</th>\n      <th>user_id</th>\n      <th>InChIKey_smiles</th>\n      <th>InChIKey_inchi</th>\n      <th>Formula_smiles</th>\n      <th>Formula_inchi</th>\n      <th>url</th>\n      <th>annotation_history</th>\n    </tr>\n  </thead>\n  <tbody>\n    <tr>\n      <td>0</td>\n      <td>CCMSLIB00000001547</td>\n      <td>130618_Ger_Jenia_WT-3-Des-MCLR_MH981.4-qb.1.1....</td>\n      <td>47daa4396adb426eaa5fa54b6ce7dd5f</td>\n      <td>1</td>\n      <td>2</td>\n      <td>GNPS-LIBRARY</td>\n      <td>1</td>\n      <td>[[289.286377,8068.000000],[295.545288,22507.00...</td>\n      <td>splash10-0w2a-0001282259-0001282259</td>\n      <td>mwang87</td>\n      <td>...</td>\n      <td>Positive</td>\n      <td>2019-10-30 21:18:25.0</td>\n      <td>aa87bf9cd0784df9956753f435c32434</td>\n      <td>null</td>\n      <td>IYDKWWDUBYWQGF-NNAZGLEUSA-N</td>\n      <td></td>\n      <td>C48H72N10O12</td>\n      <td></td>\n      <td>https://gnps.ucsd.edu/ProteoSAFe/gnpslibrarysp...</td>\n      <td>[{'Compound_Name': '3-Des-Microcystein_LR', 'I...</td>\n    </tr>\n    <tr>\n      <td>1</td>\n      <td>CCMSLIB00000001548</td>\n      <td>20111105_Anada_Ger_HoiamideB_MH940_qb.1.1..mgf</td>\n      <td>47daa4396adb426eaa5fa54b6ce7dd5f</td>\n      <td>1</td>\n      <td>2</td>\n      <td>GNPS-LIBRARY</td>\n      <td>1</td>\n      <td>[[278.049927,35793.000000],[278.957642,47593.0...</td>\n      <td>splash10-00dl-0000011189-0000011189</td>\n      <td>mwang87</td>\n      <td>...</td>\n      <td>Positive</td>\n      <td>2019-06-04 02:55:49.0</td>\n      <td>cd4ed49954b94767a54918c340d18fa1</td>\n      <td>null</td>\n      <td>KNGPFNUOXXLKCN-ZNCJFREWSA-N</td>\n      <td>KNGPFNUOXXLKCN-ZNCJFREWSA-N</td>\n      <td>C45H73N5O10S3</td>\n      <td>C45H73N5O10S3</td>\n      <td>https://gnps.ucsd.edu/ProteoSAFe/gnpslibrarysp...</td>\n      <td>[{'Compound_Name': 'Hoiamide B', 'Ion_Source':...</td>\n    </tr>\n    <tr>\n      <td>2</td>\n      <td>CCMSLIB00000001549</td>\n      <td>20111105_Jenia_Ger_MalyngamideC_MH_456_qb.1.1....</td>\n      <td>47daa4396adb426eaa5fa54b6ce7dd5f</td>\n      <td>1</td>\n      <td>2</td>\n      <td>GNPS-LIBRARY</td>\n      <td>1</td>\n      <td>[[128.838745,8064.000000],[132.075684,8080.000...</td>\n      <td>splash10-00di-0000900000-0000900000</td>\n      <td>mwang87</td>\n      <td>...</td>\n      <td>Positive</td>\n      <td>2014-02-04 17:56:43.0</td>\n      <td>47daa4396adb426eaa5fa54b6ce7dd5f</td>\n      <td>null</td>\n      <td></td>\n      <td></td>\n      <td></td>\n      <td></td>\n      <td>https://gnps.ucsd.edu/ProteoSAFe/gnpslibrarysp...</td>\n      <td>[{'Compound_Name': 'Malyngamide C', 'Ion_Sourc...</td>\n    </tr>\n    <tr>\n      <td>3</td>\n      <td>CCMSLIB00000001550</td>\n      <td>20111105_Jenia_Ger_Scytonemin_MH_545_qb.1.1..mgf</td>\n      <td>47daa4396adb426eaa5fa54b6ce7dd5f</td>\n      <td>1</td>\n      <td>2</td>\n      <td>GNPS-LIBRARY</td>\n      <td>1</td>\n      <td>[[343.896484,142503.000000],[345.458496,67939....</td>\n      <td>splash10-0002-0000190000-0000190000</td>\n      <td>mwang87</td>\n      <td>...</td>\n      <td>Positive</td>\n      <td>2019-07-23 10:38:26.0</td>\n      <td>ca48cf7bc6644f5e89f98d62f114dfea</td>\n      <td>null</td>\n      <td>CGZKSPLDUIRCIO-RPCRKUJJSA-N</td>\n      <td>CGZKSPLDUIRCIO-RPCRKUJJSA-N</td>\n      <td>C36H20N2O4</td>\n      <td>C36H20N2O4</td>\n      <td>https://gnps.ucsd.edu/ProteoSAFe/gnpslibrarysp...</td>\n      <td>[{'Compound_Name': 'Scytonemin', 'Ion_Source':...</td>\n    </tr>\n    <tr>\n      <td>4</td>\n      <td>CCMSLIB00000001551</td>\n      <td>A1.mgf</td>\n      <td>d14a5843653040ba9fa2c4376f2be358</td>\n      <td>1</td>\n      <td>2</td>\n      <td>GNPS-LIBRARY</td>\n      <td>1</td>\n      <td>[[101.015465,34.201859],[101.059807,14.903370]...</td>\n      <td>splash10-03di-0910000000-0910000000</td>\n      <td>mwang87</td>\n      <td>...</td>\n      <td>Positive</td>\n      <td>2014-02-04 17:56:31.0</td>\n      <td>d14a5843653040ba9fa2c4376f2be358</td>\n      <td>null</td>\n      <td></td>\n      <td></td>\n      <td></td>\n      <td></td>\n      <td>https://gnps.ucsd.edu/ProteoSAFe/gnpslibrarysp...</td>\n      <td>[{'Compound_Name': 'Salinisporamide A', 'Ion_S...</td>\n    </tr>\n  </tbody>\n</table>\n<p>5 rows × 38 columns</p>\n</div>"
     },
     "metadata": {},
     "execution_count": 11
    }
   ],
   "source": [
    "import requests\n",
    "current_gnps_list = requests.get(\"https://gnps-external.ucsd.edu/gnpslibrary/ALL_GNPS.json\").json()\n",
    "old_identifications_df = pd.DataFrame(current_gnps_list)\n",
    "old_identifications_df.head()"
   ]
  },
  {
   "cell_type": "code",
   "execution_count": 13,
   "metadata": {},
   "outputs": [
    {
     "output_type": "execute_result",
     "data": {
      "text/plain": "['spectrum_id',\n 'source_file',\n 'task',\n 'scan',\n 'ms_level',\n 'library_membership',\n 'spectrum_status',\n 'peaks_json',\n 'splash',\n 'submit_user',\n 'Compound_Name',\n 'Ion_Source',\n 'Compound_Source',\n 'Instrument',\n 'PI',\n 'Data_Collector',\n 'Adduct',\n 'Scan',\n 'Precursor_MZ',\n 'ExactMass',\n 'Charge',\n 'CAS_Number',\n 'Pubmed_ID',\n 'Smiles',\n 'INCHI',\n 'INCHI_AUX',\n 'Library_Class',\n 'SpectrumID',\n 'Ion_Mode',\n 'create_time',\n 'task_id',\n 'user_id',\n 'InChIKey_smiles',\n 'InChIKey_inchi',\n 'Formula_smiles',\n 'Formula_inchi',\n 'url',\n 'annotation_history']"
     },
     "metadata": {},
     "execution_count": 13
    }
   ],
   "source": [
    "list(old_identifications_df.columns)"
   ]
  },
  {
   "cell_type": "code",
   "execution_count": 14,
   "metadata": {},
   "outputs": [],
   "source": [
    "old_identifications_df[\"spectrumid\"] = old_identifications_df[\"spectrum_id\"]\n",
    "old_identifications_df[\"old_smiles\"] = old_identifications_df[\"Smiles\"]\n",
    "old_identifications_df[\"old_inchi\"] = old_identifications_df[\"INCHI\"]\n",
    "old_identifications_df[\"old_name\"] = old_identifications_df[\"Compound_Name\"]\n",
    "\n",
    "old_identifications_df = old_identifications_df[[\"spectrumid\", \"old_smiles\", \"old_inchi\", \"old_name\"]]"
   ]
  },
  {
   "cell_type": "code",
   "execution_count": 15,
   "metadata": {},
   "outputs": [],
   "source": [
    "merged_df = df.merge(old_identifications_df, how=\"left\", on=\"spectrumid\")\n",
    "\n",
    "merged_df.to_csv(\"comparison_structures.csv\", index=False, sep=\"\\t\")"
   ]
  },
  {
   "cell_type": "code",
   "execution_count": null,
   "metadata": {},
   "outputs": [],
   "source": []
  }
 ],
 "metadata": {
  "language_info": {
   "codemirror_mode": {
    "name": "ipython",
    "version": 3
   },
   "file_extension": ".py",
   "mimetype": "text/x-python",
   "name": "python",
   "nbconvert_exporter": "python",
   "pygments_lexer": "ipython3",
   "version": "3.7.3-final"
  },
  "orig_nbformat": 2,
  "kernelspec": {
   "name": "python3",
   "display_name": "Python 3"
  }
 },
 "nbformat": 4,
 "nbformat_minor": 2
}